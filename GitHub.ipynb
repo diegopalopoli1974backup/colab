{
  "nbformat": 4,
  "nbformat_minor": 0,
  "metadata": {
    "colab": {
      "provenance": [],
      "toc_visible": true,
      "mount_file_id": "19bReFNSA5ikZgRbI24Tyjgas5SkI2zfs",
      "authorship_tag": "ABX9TyMF/qFSQRmk+xzECjcpHzhP",
      "include_colab_link": true
    },
    "kernelspec": {
      "name": "python3",
      "display_name": "Python 3"
    },
    "language_info": {
      "name": "python"
    }
  },
  "cells": [
    {
      "cell_type": "markdown",
      "metadata": {
        "id": "view-in-github",
        "colab_type": "text"
      },
      "source": [
        "<a href=\"https://colab.research.google.com/github/diegopalopoli1974backup/colab/blob/main/GitHub.ipynb\" target=\"_parent\"><img src=\"https://colab.research.google.com/assets/colab-badge.svg\" alt=\"Open In Colab\"/></a>"
      ]
    },
    {
      "cell_type": "code",
      "execution_count": null,
      "metadata": {
        "id": "dHikaDKFmNmd"
      },
      "outputs": [],
      "source": [
        "\n"
      ]
    }
  ]
}